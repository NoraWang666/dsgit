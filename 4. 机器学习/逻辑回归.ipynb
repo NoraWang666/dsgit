{
 "cells": [
  {
   "cell_type": "code",
   "execution_count": 2,
   "metadata": {},
   "outputs": [],
   "source": [
    "import numpy as np\n",
    "import pandas as pd\n",
    "from sklearn.datasets import load_breast_cancer\n",
    "import matplotlib.pyplot as plt\n",
    "\n",
    "X = load_breast_cancer().data\n",
    "Y = load_breast_cancer().target"
   ]
  },
  {
   "cell_type": "code",
   "execution_count": 3,
   "metadata": {},
   "outputs": [
    {
     "data": {
      "text/plain": [
       "(569, 30)"
      ]
     },
     "execution_count": 3,
     "metadata": {},
     "output_type": "execute_result"
    }
   ],
   "source": [
    "X.shape"
   ]
  },
  {
   "cell_type": "code",
   "execution_count": 1,
   "metadata": {},
   "outputs": [],
   "source": [
    "# 简单的尝试使用l1, l2\n",
    "\n",
    "from sklearn.linear_model import LogisticRegression as LR\n",
    "from sklearn.model_selection import train_test_split"
   ]
  },
  {
   "cell_type": "code",
   "execution_count": 42,
   "metadata": {},
   "outputs": [
    {
     "data": {
      "text/plain": [
       "(0.9578207381370826, 0.9578207381370826)"
      ]
     },
     "execution_count": 42,
     "metadata": {},
     "output_type": "execute_result"
    }
   ],
   "source": [
    "# 实例化模型, 不切分数据集的情况\n",
    "\n",
    "lrl1 = LR(penalty = 'l1',\n",
    "          solver = 'liblinear',\n",
    "          C = 0.5, max_iter = 1000\n",
    "         ).fit(X, Y)\n",
    "\n",
    "\n",
    "lrl2 = LR(penalty = 'l2',\n",
    "          solver = 'lbfgs',\n",
    "          C = 0.5, max_iter = 5000\n",
    "         ).fit(X, Y)\n",
    "lrl1.score(X, Y), lrl2.score(X, Y)\n",
    "\n",
    "# 看C变大，分数是如何改变的\n",
    "# C越大，描述的是越小的惩罚"
   ]
  },
  {
   "cell_type": "code",
   "execution_count": 45,
   "metadata": {},
   "outputs": [],
   "source": [
    "# 切分数据集，查看模型是否过拟合\n",
    "\n",
    "Xtrain, Xtest, Ytrain, Ytest = train_test_split(X, Y, test_size = 0.3, random_state = 420)"
   ]
  },
  {
   "cell_type": "code",
   "execution_count": 55,
   "metadata": {},
   "outputs": [
    {
     "name": "stdout",
     "output_type": "stream",
     "text": [
      "0.9698492462311558 0.9298245614035088\n",
      "0.9673366834170855 0.9239766081871345\n"
     ]
    }
   ],
   "source": [
    "C = 1\n",
    "lrl1 = LR(penalty = 'l1',\n",
    "          solver = 'liblinear',\n",
    "          C = C, max_iter = 1000\n",
    "         ).fit(Xtrain, Ytrain)\n",
    "\n",
    "\n",
    "lrl2 = LR(penalty = 'l2',\n",
    "          solver = 'lbfgs',\n",
    "          C = C, max_iter = 500000\n",
    "         ).fit(Xtrain, Ytrain)\n",
    "\n",
    "print(lrl1.score(Xtrain, Ytrain), lrl1.score(Xtest, Ytest))\n",
    "print(lrl2.score(Xtrain, Ytrain), lrl2.score(Xtest, Ytest))"
   ]
  },
  {
   "cell_type": "code",
   "execution_count": 65,
   "metadata": {},
   "outputs": [],
   "source": [
    "# 对参数C做学习曲线, 查看C在l1下训练集和测试集的表现，在l2下下训练集和测试集的表现\n",
    "l1 = []\n",
    "l2 = []\n",
    "\n",
    "l1test = []\n",
    "l2test = []\n",
    "for i in np.linspace(0.05, 2, 100):\n",
    "    # 实例化模型, 并且训练\n",
    "    lrl1 = LR(penalty = 'l1',solver = 'liblinear',C = i, max_iter = 1000).fit(Xtrain, Ytrain)\n",
    "    lrl2 = LR(penalty = 'l2',solver = 'liblinear',C = i, max_iter = 1000).fit(Xtrain, Ytrain)\n",
    "    \n",
    "    # 记录训练集的分数\n",
    "    l1.append(lrl1.score(Xtrain, Ytrain))\n",
    "    l2.append(lrl2.score(Xtrain, Ytrain))\n",
    "    \n",
    "    # 记录测试集的分数\n",
    "    l1test.append(lrl1.score(Xtest, Ytest))\n",
    "    l2test.append(lrl2.score(Xtest, Ytest))"
   ]
  },
  {
   "cell_type": "code",
   "execution_count": 66,
   "metadata": {},
   "outputs": [
    {
     "data": {
      "image/png": "[encoded data removed]",
      "text/plain": [
       "<Figure size 432x432 with 1 Axes>"
      ]
     },
     "metadata": {
      "needs_background": "light"
     },
     "output_type": "display_data"
    }
   ],
   "source": [
    "graph = [l1, l2, l1test, l2test]\n",
    "color = ['green', 'black', 'lightgreen', 'gray']\n",
    "label = ['l1', 'l2', 'l1test', 'l2test']\n",
    "\n",
    "plt.figure(figsize = (6,6))\n",
    "for i in range(4):\n",
    "    plt.plot(np.linspace(0.05, 2, 100), graph[i], color[i], label = label[i])\n",
    "plt.legend(loc=4)\n",
    "plt.show()"
   ]
  },
  {
   "cell_type": "code",
   "execution_count": 1,
   "metadata": {},
   "outputs": [],
   "source": [
    "#选取测试和训练集合差距小的参数c"
   ]
  },
  {
   "cell_type": "code",
   "execution_count": 78,
   "metadata": {},
   "outputs": [
    {
     "name": "stderr",
     "output_type": "stream",
     "text": [
      "/Users/xiangyangni/anaconda3/lib/python3.7/site-packages/sklearn/svm/_base.py:975: ConvergenceWarning: Liblinear failed to converge, increase the number of iterations.\n",
      "  \"the number of iterations.\", ConvergenceWarning)\n",
      "/Users/xiangyangni/anaconda3/lib/python3.7/site-packages/sklearn/svm/_base.py:975: ConvergenceWarning: Liblinear failed to converge, increase the number of iterations.\n",
      "  \"the number of iterations.\", ConvergenceWarning)\n",
      "/Users/xiangyangni/anaconda3/lib/python3.7/site-packages/sklearn/svm/_base.py:975: ConvergenceWarning: Liblinear failed to converge, increase the number of iterations.\n",
      "  \"the number of iterations.\", ConvergenceWarning)\n"
     ]
    },
    {
     "data": {
      "text/plain": [
       "<matplotlib.legend.Legend at 0x7f87dff2f610>"
      ]
     },
     "execution_count": 78,
     "metadata": {},
     "output_type": "execute_result"
    },
    {
     "data": {
      "image/png": "[encoded data removed]",
      "text/plain": [
       "<Figure size 432x288 with 1 Axes>"
      ]
     },
     "metadata": {
      "needs_background": "light"
     },
     "output_type": "display_data"
    }
   ],
   "source": [
    "# C = 0.8, 调整最大的迭代次数这个参数\n",
    "l2 = []\n",
    "l2test = []\n",
    "\n",
    "for i in range(1, 201, 10):\n",
    "    lrl2 = LR(penalty = 'l2',solver = 'liblinear', C = 0.8, max_iter = i).fit(Xtrain, Ytrain)\n",
    "    l2.append(lrl2.score(Xtrain, Ytrain))\n",
    "    l2test.append(lrl2.score(Xtest, Ytest))\n",
    "\n",
    "plt.plot(range(1, 201, 10), l2, label = 'l2')\n",
    "plt.plot(range(1, 201, 10), l2test, label = 'l2test')\n",
    "plt.legend(loc = 4)"
   ]
  },
  {
   "cell_type": "code",
   "execution_count": 85,
   "metadata": {},
   "outputs": [],
   "source": [
    "# 多分类\n",
    "from sklearn.datasets import load_iris\n",
    "X = load_iris().data\n",
    "Y = load_iris().target\n",
    "\n",
    "Xtrain, Xtest, Ytrain, Ytest = train_test_split(X, Y, test_size = 0.3, random_state = 420)\n",
    "\n",
    "clf = LR(solver = 'sag', multi_class = 'ovr', max_iter = 5000).fit(Xtrain, Ytrain)\n",
    "clf.score(Xtrain, Ytrain), clf.score(Xtest, Ytest)\n",
    "\n",
    "clf = LR(solver = 'sag', \n",
    "         penalty = 'l2',\n",
    "         C = 0.4,\n",
    "         multi_class = 'multinomial', \n",
    "         max_iter = 5000).fit(Xtrain, Ytrain)\n",
    "clf.score(Xtrain, Ytrain), clf.score(Xtest, Ytest)"
   ]
  },
  {
   "cell_type": "code",
   "execution_count": null,
   "metadata": {},
   "outputs": [],
   "source": []
  },
  {
   "cell_type": "code",
   "execution_count": null,
   "metadata": {},
   "outputs": [],
   "source": []
  },
  {
   "cell_type": "code",
   "execution_count": null,
   "metadata": {},
   "outputs": [],
   "source": []
  },
  {
   "cell_type": "code",
   "execution_count": null,
   "metadata": {},
   "outputs": [],
   "source": []
  },
  {
   "cell_type": "code",
   "execution_count": null,
   "metadata": {},
   "outputs": [],
   "source": []
  },
  {
   "cell_type": "code",
   "execution_count": 4,
   "metadata": {},
   "outputs": [],
   "source": [
    "# 需要导入包和数据集，尝试网格搜索\n",
    "\n",
    "import numpy as np\n",
    "import pandas as pd\n",
    "from sklearn.datasets import load_breast_cancer, load_iris\n",
    "from sklearn.model_selection import train_test_split, GridSearchCV, cross_val_score\n",
    "from sklearn.linear_model import LogisticRegression\n",
    "from sklearn.preprocessing import StandardScaler\n",
    "\n",
    "X = load_breast_cancer().data\n",
    "Y = load_breast_cancer().target"
   ]
  },
  {
   "cell_type": "code",
   "execution_count": 11,
   "metadata": {},
   "outputs": [
    {
     "data": {
      "text/html": [
       "<div>\n",
       "<style scoped>\n",
       "    .dataframe tbody tr th:only-of-type {\n",
       "        vertical-align: middle;\n",
       "    }\n",
       "\n",
       "    .dataframe tbody tr th {\n",
       "        vertical-align: top;\n",
       "    }\n",
       "\n",
       "    .dataframe thead th {\n",
       "        text-align: right;\n",
       "    }\n",
       "</style>\n",
       "<table border=\"1\" class=\"dataframe\">\n",
       "  <thead>\n",
       "    <tr style=\"text-align: right;\">\n",
       "      <th></th>\n",
       "      <th>mean radius</th>\n",
       "      <th>mean texture</th>\n",
       "      <th>mean perimeter</th>\n",
       "      <th>mean area</th>\n",
       "      <th>mean smoothness</th>\n",
       "      <th>mean compactness</th>\n",
       "      <th>mean concavity</th>\n",
       "      <th>mean concave points</th>\n",
       "      <th>mean symmetry</th>\n",
       "      <th>mean fractal dimension</th>\n",
       "      <th>...</th>\n",
       "      <th>worst texture</th>\n",
       "      <th>worst perimeter</th>\n",
       "      <th>worst area</th>\n",
       "      <th>worst smoothness</th>\n",
       "      <th>worst compactness</th>\n",
       "      <th>worst concavity</th>\n",
       "      <th>worst concave points</th>\n",
       "      <th>worst symmetry</th>\n",
       "      <th>worst fractal dimension</th>\n",
       "      <th>label</th>\n",
       "    </tr>\n",
       "  </thead>\n",
       "  <tbody>\n",
       "    <tr>\n",
       "      <td>0</td>\n",
       "      <td>17.99</td>\n",
       "      <td>10.38</td>\n",
       "      <td>122.80</td>\n",
       "      <td>1001.0</td>\n",
       "      <td>0.11840</td>\n",
       "      <td>0.27760</td>\n",
       "      <td>0.3001</td>\n",
       "      <td>0.14710</td>\n",
       "      <td>0.2419</td>\n",
       "      <td>0.07871</td>\n",
       "      <td>...</td>\n",
       "      <td>17.33</td>\n",
       "      <td>184.60</td>\n",
       "      <td>2019.0</td>\n",
       "      <td>0.1622</td>\n",
       "      <td>0.6656</td>\n",
       "      <td>0.7119</td>\n",
       "      <td>0.2654</td>\n",
       "      <td>0.4601</td>\n",
       "      <td>0.11890</td>\n",
       "      <td>0</td>\n",
       "    </tr>\n",
       "    <tr>\n",
       "      <td>1</td>\n",
       "      <td>20.57</td>\n",
       "      <td>17.77</td>\n",
       "      <td>132.90</td>\n",
       "      <td>1326.0</td>\n",
       "      <td>0.08474</td>\n",
       "      <td>0.07864</td>\n",
       "      <td>0.0869</td>\n",
       "      <td>0.07017</td>\n",
       "      <td>0.1812</td>\n",
       "      <td>0.05667</td>\n",
       "      <td>...</td>\n",
       "      <td>23.41</td>\n",
       "      <td>158.80</td>\n",
       "      <td>1956.0</td>\n",
       "      <td>0.1238</td>\n",
       "      <td>0.1866</td>\n",
       "      <td>0.2416</td>\n",
       "      <td>0.1860</td>\n",
       "      <td>0.2750</td>\n",
       "      <td>0.08902</td>\n",
       "      <td>0</td>\n",
       "    </tr>\n",
       "    <tr>\n",
       "      <td>2</td>\n",
       "      <td>19.69</td>\n",
       "      <td>21.25</td>\n",
       "      <td>130.00</td>\n",
       "      <td>1203.0</td>\n",
       "      <td>0.10960</td>\n",
       "      <td>0.15990</td>\n",
       "      <td>0.1974</td>\n",
       "      <td>0.12790</td>\n",
       "      <td>0.2069</td>\n",
       "      <td>0.05999</td>\n",
       "      <td>...</td>\n",
       "      <td>25.53</td>\n",
       "      <td>152.50</td>\n",
       "      <td>1709.0</td>\n",
       "      <td>0.1444</td>\n",
       "      <td>0.4245</td>\n",
       "      <td>0.4504</td>\n",
       "      <td>0.2430</td>\n",
       "      <td>0.3613</td>\n",
       "      <td>0.08758</td>\n",
       "      <td>0</td>\n",
       "    </tr>\n",
       "    <tr>\n",
       "      <td>3</td>\n",
       "      <td>11.42</td>\n",
       "      <td>20.38</td>\n",
       "      <td>77.58</td>\n",
       "      <td>386.1</td>\n",
       "      <td>0.14250</td>\n",
       "      <td>0.28390</td>\n",
       "      <td>0.2414</td>\n",
       "      <td>0.10520</td>\n",
       "      <td>0.2597</td>\n",
       "      <td>0.09744</td>\n",
       "      <td>...</td>\n",
       "      <td>26.50</td>\n",
       "      <td>98.87</td>\n",
       "      <td>567.7</td>\n",
       "      <td>0.2098</td>\n",
       "      <td>0.8663</td>\n",
       "      <td>0.6869</td>\n",
       "      <td>0.2575</td>\n",
       "      <td>0.6638</td>\n",
       "      <td>0.17300</td>\n",
       "      <td>0</td>\n",
       "    </tr>\n",
       "    <tr>\n",
       "      <td>4</td>\n",
       "      <td>20.29</td>\n",
       "      <td>14.34</td>\n",
       "      <td>135.10</td>\n",
       "      <td>1297.0</td>\n",
       "      <td>0.10030</td>\n",
       "      <td>0.13280</td>\n",
       "      <td>0.1980</td>\n",
       "      <td>0.10430</td>\n",
       "      <td>0.1809</td>\n",
       "      <td>0.05883</td>\n",
       "      <td>...</td>\n",
       "      <td>16.67</td>\n",
       "      <td>152.20</td>\n",
       "      <td>1575.0</td>\n",
       "      <td>0.1374</td>\n",
       "      <td>0.2050</td>\n",
       "      <td>0.4000</td>\n",
       "      <td>0.1625</td>\n",
       "      <td>0.2364</td>\n",
       "      <td>0.07678</td>\n",
       "      <td>0</td>\n",
       "    </tr>\n",
       "  </tbody>\n",
       "</table>\n",
       "<p>5 rows × 31 columns</p>\n",
       "</div>"
      ],
      "text/plain": [
       "   mean radius  mean texture  mean perimeter  mean area  mean smoothness  \\\n",
       "0        17.99         10.38          122.80     1001.0          0.11840   \n",
       "1        20.57         17.77          132.90     1326.0          0.08474   \n",
       "2        19.69         21.25          130.00     1203.0          0.10960   \n",
       "3        11.42         20.38           77.58      386.1          0.14250   \n",
       "4        20.29         14.34          135.10     1297.0          0.10030   \n",
       "\n",
       "   mean compactness  mean concavity  mean concave points  mean symmetry  \\\n",
       "0           0.27760          0.3001              0.14710         0.2419   \n",
       "1           0.07864          0.0869              0.07017         0.1812   \n",
       "2           0.15990          0.1974              0.12790         0.2069   \n",
       "3           0.28390          0.2414              0.10520         0.2597   \n",
       "4           0.13280          0.1980              0.10430         0.1809   \n",
       "\n",
       "   mean fractal dimension  ...  worst texture  worst perimeter  worst area  \\\n",
       "0                 0.07871  ...          17.33           184.60      2019.0   \n",
       "1                 0.05667  ...          23.41           158.80      1956.0   \n",
       "2                 0.05999  ...          25.53           152.50      1709.0   \n",
       "3                 0.09744  ...          26.50            98.87       567.7   \n",
       "4                 0.05883  ...          16.67           152.20      1575.0   \n",
       "\n",
       "   worst smoothness  worst compactness  worst concavity  worst concave points  \\\n",
       "0            0.1622             0.6656           0.7119                0.2654   \n",
       "1            0.1238             0.1866           0.2416                0.1860   \n",
       "2            0.1444             0.4245           0.4504                0.2430   \n",
       "3            0.2098             0.8663           0.6869                0.2575   \n",
       "4            0.1374             0.2050           0.4000                0.1625   \n",
       "\n",
       "   worst symmetry  worst fractal dimension  label  \n",
       "0          0.4601                  0.11890      0  \n",
       "1          0.2750                  0.08902      0  \n",
       "2          0.3613                  0.08758      0  \n",
       "3          0.6638                  0.17300      0  \n",
       "4          0.2364                  0.07678      0  \n",
       "\n",
       "[5 rows x 31 columns]"
      ]
     },
     "execution_count": 11,
     "metadata": {},
     "output_type": "execute_result"
    }
   ],
   "source": [
    "data = pd.DataFrame(X, columns = load_breast_cancer().feature_names)\n",
    "data['label'] = Y\n",
    "data.head()"
   ]
  },
  {
   "cell_type": "code",
   "execution_count": 37,
   "metadata": {},
   "outputs": [],
   "source": [
    "# 开始做标准化\n",
    "\n",
    "# 首先来切分数据集\n",
    "Xtrain, Xtest, Ytrain, Ytest = train_test_split(X, Y, test_size = 0.3)\n",
    "\n",
    "# 使用标准化包，对训练集来学习，从而对训练集和测试集来做标准化\n",
    "std = StandardScaler().fit(Xtrain)\n",
    "Xtrain_ = std.transform(Xtrain)\n",
    "Xtest_ = std.transform(Xtest)"
   ]
  },
  {
   "cell_type": "code",
   "execution_count": 38,
   "metadata": {},
   "outputs": [
    {
     "data": {
      "text/plain": [
       "GridSearchCV(cv=5, estimator=LogisticRegression(max_iter=10000),\n",
       "             param_grid={'C': [1, 2, 3, 4, 5, 6, 7],\n",
       "                         'solver': ['liblinear', 'sag', 'newton-cg', 'lbfgs']})"
      ]
     },
     "execution_count": 38,
     "metadata": {},
     "output_type": "execute_result"
    }
   ],
   "source": [
    "# 在确定l2范式的情况下，判断solver, C的最优组合\n",
    "p = {'C' : list(range(1, 8)),\n",
    "     'solver' : ['liblinear', 'sag', 'newton-cg', 'lbfgs']\n",
    "    }\n",
    "model = LogisticRegression(penalty = 'l2', max_iter = 10000)\n",
    "GS = GridSearchCV(model, p, cv = 5)\n",
    "GS.fit(Xtrain_, Ytrain)"
   ]
  },
  {
   "cell_type": "code",
   "execution_count": 39,
   "metadata": {},
   "outputs": [
    {
     "data": {
      "text/plain": [
       "(0.9749683544303795, {'C': 1, 'solver': 'liblinear'})"
      ]
     },
     "execution_count": 39,
     "metadata": {},
     "output_type": "execute_result"
    }
   ],
   "source": [
    "GS.best_score_, GS.best_params_"
   ]
  },
  {
   "cell_type": "code",
   "execution_count": 40,
   "metadata": {},
   "outputs": [
    {
     "data": {
      "text/plain": [
       "(0.9874371859296482, 0.9824561403508771)"
      ]
     },
     "execution_count": 40,
     "metadata": {},
     "output_type": "execute_result"
    }
   ],
   "source": [
    "# 将最优的结果重新用来实例化模型，查看训练集和测试集下的分数\n",
    "\n",
    "model = LogisticRegression(penalty = 'l2', \n",
    "                           max_iter = 10000,\n",
    "                           C = GS.best_params_['C'],\n",
    "                           solver = GS.best_params_['solver']\n",
    "                          ).fit(Xtrain_, Ytrain)\n",
    "model.score(Xtrain_, Ytrain), model.score(Xtest_, Ytest) "
   ]
  },
  {
   "cell_type": "code",
   "execution_count": 41,
   "metadata": {},
   "outputs": [],
   "source": [
    "# 从上面的结果当中，发现多次尝试后，liblinear的效果的最好的。\n",
    "# 是否可以尝试确定liblinear，观测l1好还是l2好"
   ]
  },
  {
   "cell_type": "code",
   "execution_count": 128,
   "metadata": {},
   "outputs": [],
   "source": [
    "# 开始做标准化\n",
    "\n",
    "# 首先来切分数据集\n",
    "Xtrain, Xtest, Ytrain, Ytest = train_test_split(X, Y, test_size = 0.3)\n",
    "\n",
    "# 使用标准化包，对训练集来学习，从而对训练集和测试集来做标准化\n",
    "std = StandardScaler().fit(Xtrain)\n",
    "Xtrain_ = std.transform(Xtrain)\n",
    "Xtest_ = std.transform(Xtest)"
   ]
  },
  {
   "cell_type": "code",
   "execution_count": 129,
   "metadata": {},
   "outputs": [
    {
     "data": {
      "text/plain": [
       "(0.9698417721518988, {'C': 1, 'penalty': 'l1'})"
      ]
     },
     "execution_count": 129,
     "metadata": {},
     "output_type": "execute_result"
    }
   ],
   "source": [
    "p = {'C' : list(range(1,10)),\n",
    "     'penalty' : ['l1', 'l2']\n",
    "    }\n",
    "model = LogisticRegression(solver = 'liblinear', max_iter = 10000)\n",
    "GS = GridSearchCV(model, p, cv = 5)\n",
    "GS.fit(Xtrain_, Ytrain)\n",
    "GS.best_score_, GS.best_params_"
   ]
  },
  {
   "cell_type": "code",
   "execution_count": 130,
   "metadata": {},
   "outputs": [
    {
     "data": {
      "text/plain": [
       "(0.9849246231155779, 0.9707602339181286)"
      ]
     },
     "execution_count": 130,
     "metadata": {},
     "output_type": "execute_result"
    }
   ],
   "source": [
    "# 将最优的结果重新用来实例化模型，查看训练集和测试集下的分数\n",
    "\n",
    "model = LogisticRegression(penalty = GS.best_params_['penalty'], \n",
    "                           max_iter = 10000,\n",
    "                           C = GS.best_params_['C'],\n",
    "                           solver = 'liblinear'\n",
    "                          ).fit(Xtrain_, Ytrain)\n",
    "model.score(Xtrain_, Ytrain), model.score(Xtest_, Ytest) "
   ]
  },
  {
   "cell_type": "code",
   "execution_count": 131,
   "metadata": {},
   "outputs": [
    {
     "data": {
      "text/plain": [
       "array([[ 0.        ,  0.        ,  0.        ,  0.        ,  0.        ,\n",
       "         0.17526968,  0.        , -1.39028524,  0.        ,  0.        ,\n",
       "        -0.95554291,  0.        ,  0.        , -2.2393666 , -0.04018748,\n",
       "         0.32057536,  0.        ,  0.        ,  0.        ,  0.4169557 ,\n",
       "         0.        , -1.49403518,  0.        , -3.11300344, -0.53568098,\n",
       "         0.        , -0.78713147, -1.55909619,  0.        ,  0.        ]])"
      ]
     },
     "execution_count": 131,
     "metadata": {},
     "output_type": "execute_result"
    }
   ],
   "source": [
    "# 得出的结果是，l1和l2的效果差不多，得出的分数也差不多。C = 1是最好\n",
    "# 应该选谁？应该优先选择l1范式，因为l1的特点是直接能将大多数的变成0，使得模型更加的简单，在其它的未知的数据集上面表现的就更加好\n",
    "model.coef_"
   ]
  },
  {
   "cell_type": "code",
   "execution_count": 136,
   "metadata": {},
   "outputs": [
    {
     "data": {
      "text/plain": [
       "(0.963302752293578, 0.9735868600177567)"
      ]
     },
     "execution_count": 136,
     "metadata": {},
     "output_type": "execute_result"
    }
   ],
   "source": [
    "# 计算召回率，AUC\n",
    "from sklearn.metrics import roc_auc_score, recall_score\n",
    "\n",
    "Ytest_pred = model.predict(Xtest_)\n",
    "recall_score(Ytest_pred, Ytest), roc_auc_score(Ytest_pred, Ytest)"
   ]
  },
  {
   "cell_type": "code",
   "execution_count": 142,
   "metadata": {},
   "outputs": [],
   "source": [
    "# predprob\n",
    "\n",
    "# np.around(model.predict_proba(Xtest_), 2)"
   ]
  },
  {
   "cell_type": "code",
   "execution_count": null,
   "metadata": {},
   "outputs": [],
   "source": []
  },
  {
   "cell_type": "code",
   "execution_count": null,
   "metadata": {},
   "outputs": [],
   "source": [
    "# 多分类网格搜索"
   ]
  },
  {
   "cell_type": "code",
   "execution_count": 245,
   "metadata": {},
   "outputs": [],
   "source": [
    "iris = load_iris()\n",
    "X = iris.data\n",
    "Y = iris.target\n",
    "\n",
    "# 开始做标准化\n",
    "\n",
    "# 首先来切分数据集\n",
    "Xtrain, Xtest, Ytrain, Ytest = train_test_split(X, Y, test_size = 0.3)\n",
    "\n",
    "# 使用标准化包，对训练集来学习，从而对训练集和测试集来做标准化\n",
    "std = StandardScaler().fit(Xtrain)\n",
    "Xtrain_ = std.transform(Xtrain)\n",
    "Xtest_ = std.transform(Xtest)"
   ]
  },
  {
   "cell_type": "code",
   "execution_count": 246,
   "metadata": {},
   "outputs": [
    {
     "data": {
      "text/plain": [
       "(0.980952380952381, {'C': 10.0, 'multi_class': 'multinomial'})"
      ]
     },
     "execution_count": 246,
     "metadata": {},
     "output_type": "execute_result"
    }
   ],
   "source": [
    "model = LogisticRegression(max_iter = 10000, solver = 'lbfgs', penalty = 'l2')\n",
    "p = {'C' : np.logspace(-3,3,7),\n",
    "     'multi_class' : ['ovr', 'multinomial']\n",
    "    }\n",
    "GS = GridSearchCV(model, p, cv = 5)\n",
    "GS.fit(Xtrain_, Ytrain)\n",
    "GS.best_score_, GS.best_params_"
   ]
  },
  {
   "cell_type": "code",
   "execution_count": 247,
   "metadata": {},
   "outputs": [
    {
     "data": {
      "text/plain": [
       "(0.9904761904761905, 0.9555555555555556)"
      ]
     },
     "execution_count": 247,
     "metadata": {},
     "output_type": "execute_result"
    }
   ],
   "source": [
    "model = LogisticRegression(penalty = 'l2', \n",
    "                           max_iter = 10000,\n",
    "                           C = GS.best_params_['C'],\n",
    "                           solver = 'lbfgs', \n",
    "                           multi_class = GS.best_params_['multi_class']\n",
    "                          ).fit(Xtrain_, Ytrain)\n",
    "model.score(Xtrain_, Ytrain), model.score(Xtest_, Ytest)"
   ]
  },
  {
   "cell_type": "code",
   "execution_count": null,
   "metadata": {},
   "outputs": [],
   "source": []
  },
  {
   "cell_type": "code",
   "execution_count": null,
   "metadata": {},
   "outputs": [],
   "source": []
  }
 ],
 "metadata": {
  "kernelspec": {
   "display_name": "Python 3",
   "language": "python",
   "name": "python3"
  },
  "language_info": {
   "codemirror_mode": {
    "name": "ipython",
    "version": 3
   },
   "file_extension": ".py",
   "mimetype": "text/x-python",
   "name": "python",
   "nbconvert_exporter": "python",
   "pygments_lexer": "ipython3",
   "version": "3.8.5"
  }
 },
 "nbformat": 4,
 "nbformat_minor": 4
}
